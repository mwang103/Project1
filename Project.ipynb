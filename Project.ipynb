{
  "nbformat": 4,
  "nbformat_minor": 0,
  "metadata": {
    "colab": {
      "name": "Project.ipynb",
      "provenance": [],
      "collapsed_sections": []
    },
    "kernelspec": {
      "name": "python3",
      "display_name": "Python 3"
    }
  },
  "cells": [
    {
      "cell_type": "code",
      "metadata": {
        "id": "ADRAqiBcSvKa",
        "colab_type": "code",
        "colab": {}
      },
      "source": [
        "# Import the relevant modules\n",
        "import numpy as np\n",
        "import pandas as pd\n",
        "import seaborn as sns\n",
        "import matplotlib.pyplot as plt\n",
        "import sklearn.linear_model as lm\n",
        "import sklearn as skl\n",
        "import statsmodels.formula.api as smf\n",
        "import statsmodels as sm"
      ],
      "execution_count": 0,
      "outputs": []
    },
    {
      "cell_type": "code",
      "metadata": {
        "id": "GU8NOEfoS5Ya",
        "colab_type": "code",
        "colab": {
          "base_uri": "https://localhost:8080/",
          "height": 232
        },
        "outputId": "b330bd9a-40a0-4c04-c27a-6e98d514e6c0"
      },
      "source": [
        "# Read in the baseball data\n",
        "! if [ ! -e baseball.csv ] ; \\\n",
        "  then wget https://raw.githubusercontent.com/mwang103/Project1/master/baseball.csv; \\\n",
        "fi\n",
        "  \n",
        "df = pd.read_csv('baseball.csv')"
      ],
      "execution_count": 2,
      "outputs": [
        {
          "output_type": "stream",
          "text": [
            "--2019-10-07 17:46:56--  https://raw.githubusercontent.com/mwang103/Project1/master/baseball.csv\n",
            "Resolving raw.githubusercontent.com (raw.githubusercontent.com)... 151.101.0.133, 151.101.64.133, 151.101.128.133, ...\n",
            "Connecting to raw.githubusercontent.com (raw.githubusercontent.com)|151.101.0.133|:443... connected.\n",
            "HTTP request sent, awaiting response... 200 OK\n",
            "Length: 67157 (66K) [text/plain]\n",
            "Saving to: ‘baseball.csv’\n",
            "\n",
            "\rbaseball.csv          0%[                    ]       0  --.-KB/s               \rbaseball.csv        100%[===================>]  65.58K  --.-KB/s    in 0.02s   \n",
            "\n",
            "2019-10-07 17:46:56 (2.57 MB/s) - ‘baseball.csv’ saved [67157/67157]\n",
            "\n"
          ],
          "name": "stdout"
        }
      ]
    },
    {
      "cell_type": "code",
      "metadata": {
        "id": "2RyBhOEeTAWf",
        "colab_type": "code",
        "outputId": "0865601c-519e-4d2c-f7a4-c2d568e89601",
        "colab": {
          "base_uri": "https://localhost:8080/",
          "height": 214
        }
      },
      "source": [
        "# Create new columns to compute run differential (RD) and on base + slugging (OPS)\n",
        "df = df.assign(RD = lambda x: x.RS - x.RA)\n",
        "df = df.assign(OPS = lambda x: x.OBP + x.SLG)\n",
        "\n",
        "# Uncomment this line to select only the data since 1994, when MLB changed to a 3 round playoff format\n",
        "# Technically, in 2012 MLB expanded the wild card, but this dataset only goes up to 2012 so there'd only be one year of data available\n",
        "# df = df[df['Year'] >= 1994]\n",
        "\n",
        "df.head()"
      ],
      "execution_count": 3,
      "outputs": [
        {
          "output_type": "execute_result",
          "data": {
            "text/html": [
              "<div>\n",
              "<style scoped>\n",
              "    .dataframe tbody tr th:only-of-type {\n",
              "        vertical-align: middle;\n",
              "    }\n",
              "\n",
              "    .dataframe tbody tr th {\n",
              "        vertical-align: top;\n",
              "    }\n",
              "\n",
              "    .dataframe thead th {\n",
              "        text-align: right;\n",
              "    }\n",
              "</style>\n",
              "<table border=\"1\" class=\"dataframe\">\n",
              "  <thead>\n",
              "    <tr style=\"text-align: right;\">\n",
              "      <th></th>\n",
              "      <th>Team</th>\n",
              "      <th>League</th>\n",
              "      <th>Year</th>\n",
              "      <th>RS</th>\n",
              "      <th>RA</th>\n",
              "      <th>W</th>\n",
              "      <th>OBP</th>\n",
              "      <th>SLG</th>\n",
              "      <th>BA</th>\n",
              "      <th>Playoffs</th>\n",
              "      <th>RankSeason</th>\n",
              "      <th>RankPlayoffs</th>\n",
              "      <th>G</th>\n",
              "      <th>OOBP</th>\n",
              "      <th>OSLG</th>\n",
              "      <th>RD</th>\n",
              "      <th>OPS</th>\n",
              "    </tr>\n",
              "  </thead>\n",
              "  <tbody>\n",
              "    <tr>\n",
              "      <th>0</th>\n",
              "      <td>ARI</td>\n",
              "      <td>NL</td>\n",
              "      <td>2012</td>\n",
              "      <td>734</td>\n",
              "      <td>688</td>\n",
              "      <td>81</td>\n",
              "      <td>0.328</td>\n",
              "      <td>0.418</td>\n",
              "      <td>0.259</td>\n",
              "      <td>0</td>\n",
              "      <td>NaN</td>\n",
              "      <td>NaN</td>\n",
              "      <td>162</td>\n",
              "      <td>0.317</td>\n",
              "      <td>0.415</td>\n",
              "      <td>46</td>\n",
              "      <td>0.746</td>\n",
              "    </tr>\n",
              "    <tr>\n",
              "      <th>1</th>\n",
              "      <td>ATL</td>\n",
              "      <td>NL</td>\n",
              "      <td>2012</td>\n",
              "      <td>700</td>\n",
              "      <td>600</td>\n",
              "      <td>94</td>\n",
              "      <td>0.320</td>\n",
              "      <td>0.389</td>\n",
              "      <td>0.247</td>\n",
              "      <td>1</td>\n",
              "      <td>4.0</td>\n",
              "      <td>5.0</td>\n",
              "      <td>162</td>\n",
              "      <td>0.306</td>\n",
              "      <td>0.378</td>\n",
              "      <td>100</td>\n",
              "      <td>0.709</td>\n",
              "    </tr>\n",
              "    <tr>\n",
              "      <th>2</th>\n",
              "      <td>BAL</td>\n",
              "      <td>AL</td>\n",
              "      <td>2012</td>\n",
              "      <td>712</td>\n",
              "      <td>705</td>\n",
              "      <td>93</td>\n",
              "      <td>0.311</td>\n",
              "      <td>0.417</td>\n",
              "      <td>0.247</td>\n",
              "      <td>1</td>\n",
              "      <td>5.0</td>\n",
              "      <td>4.0</td>\n",
              "      <td>162</td>\n",
              "      <td>0.315</td>\n",
              "      <td>0.403</td>\n",
              "      <td>7</td>\n",
              "      <td>0.728</td>\n",
              "    </tr>\n",
              "    <tr>\n",
              "      <th>3</th>\n",
              "      <td>BOS</td>\n",
              "      <td>AL</td>\n",
              "      <td>2012</td>\n",
              "      <td>734</td>\n",
              "      <td>806</td>\n",
              "      <td>69</td>\n",
              "      <td>0.315</td>\n",
              "      <td>0.415</td>\n",
              "      <td>0.260</td>\n",
              "      <td>0</td>\n",
              "      <td>NaN</td>\n",
              "      <td>NaN</td>\n",
              "      <td>162</td>\n",
              "      <td>0.331</td>\n",
              "      <td>0.428</td>\n",
              "      <td>-72</td>\n",
              "      <td>0.730</td>\n",
              "    </tr>\n",
              "    <tr>\n",
              "      <th>4</th>\n",
              "      <td>CHC</td>\n",
              "      <td>NL</td>\n",
              "      <td>2012</td>\n",
              "      <td>613</td>\n",
              "      <td>759</td>\n",
              "      <td>61</td>\n",
              "      <td>0.302</td>\n",
              "      <td>0.378</td>\n",
              "      <td>0.240</td>\n",
              "      <td>0</td>\n",
              "      <td>NaN</td>\n",
              "      <td>NaN</td>\n",
              "      <td>162</td>\n",
              "      <td>0.335</td>\n",
              "      <td>0.424</td>\n",
              "      <td>-146</td>\n",
              "      <td>0.680</td>\n",
              "    </tr>\n",
              "  </tbody>\n",
              "</table>\n",
              "</div>"
            ],
            "text/plain": [
              "  Team League  Year   RS   RA   W  ...  RankPlayoffs    G   OOBP   OSLG   RD    OPS\n",
              "0  ARI     NL  2012  734  688  81  ...           NaN  162  0.317  0.415   46  0.746\n",
              "1  ATL     NL  2012  700  600  94  ...           5.0  162  0.306  0.378  100  0.709\n",
              "2  BAL     AL  2012  712  705  93  ...           4.0  162  0.315  0.403    7  0.728\n",
              "3  BOS     AL  2012  734  806  69  ...           NaN  162  0.331  0.428  -72  0.730\n",
              "4  CHC     NL  2012  613  759  61  ...           NaN  162  0.335  0.424 -146  0.680\n",
              "\n",
              "[5 rows x 17 columns]"
            ]
          },
          "metadata": {
            "tags": []
          },
          "execution_count": 3
        }
      ]
    },
    {
      "cell_type": "code",
      "metadata": {
        "id": "WLcIYvF7TWnU",
        "colab_type": "code",
        "outputId": "ede96348-edb4-45f2-8912-55081df6b907",
        "colab": {
          "base_uri": "https://localhost:8080/",
          "height": 387
        }
      },
      "source": [
        "# Plot the variables we're interested in, classified by whether or not teams made the playoffs\n",
        "sns.pairplot(df, vars = ['RD', 'OPS'], hue = 'Playoffs')\n"
      ],
      "execution_count": 4,
      "outputs": [
        {
          "output_type": "execute_result",
          "data": {
            "text/plain": [
              "<seaborn.axisgrid.PairGrid at 0x7efd51eaa518>"
            ]
          },
          "metadata": {
            "tags": []
          },
          "execution_count": 4
        },
        {
          "output_type": "display_data",
          "data": {
            "image/png": "[encoded data removed]",
            "text/plain": [
              "<Figure size 407.375x360 with 6 Axes>"
            ]
          },
          "metadata": {
            "tags": []
          }
        }
      ]
    },
    {
      "cell_type": "markdown",
      "metadata": {
        "id": "XfTxBe8ZVSb0",
        "colab_type": "text"
      },
      "source": [
        "**It looks like teams that make the playoffs have higher RD and higher OPS**"
      ]
    },
    {
      "cell_type": "code",
      "metadata": {
        "id": "iCQ33tIhMfhx",
        "colab_type": "code",
        "outputId": "fb8e17dc-5766-4dca-a7aa-590b4af2c6e3",
        "colab": {
          "base_uri": "https://localhost:8080/",
          "height": 371
        }
      },
      "source": [
        "# Separate into training and testing data\n",
        "# Run the logistic regression and print the results\n",
        "trainFraction = .75\n",
        "np.random.seed(10)\n",
        "sample = np.random.uniform(size = df.shape[0]) < trainFraction\n",
        "\n",
        "x = df[['RD', 'OPS']]\n",
        "y = df[['Playoffs']]\n",
        "x = sm.tools.add_constant(x)\n",
        "\n",
        "xtraining = x[sample]\n",
        "xtesting = x[~sample]\n",
        "ytraining = y[sample]\n",
        "ytesting = y[~sample]\n",
        "\n",
        "fit = sm.discrete.discrete_model.Logit(ytraining, xtraining).fit()\n",
        "ytraining = ytraining.values\n",
        "ytesting = ytesting.values\n",
        "fit.summary()"
      ],
      "execution_count": 5,
      "outputs": [
        {
          "output_type": "stream",
          "text": [
            "Optimization terminated successfully.\n",
            "         Current function value: 0.250699\n",
            "         Iterations 8\n"
          ],
          "name": "stdout"
        },
        {
          "output_type": "stream",
          "text": [
            "/usr/local/lib/python3.6/dist-packages/numpy/core/fromnumeric.py:2389: FutureWarning: Method .ptp is deprecated and will be removed in a future version. Use numpy.ptp instead.\n",
            "  return ptp(axis=axis, out=out, **kwargs)\n"
          ],
          "name": "stderr"
        },
        {
          "output_type": "execute_result",
          "data": {
            "text/html": [
              "<table class=\"simpletable\">\n",
              "<caption>Logit Regression Results</caption>\n",
              "<tr>\n",
              "  <th>Dep. Variable:</th>       <td>Playoffs</td>     <th>  No. Observations:  </th>  <td>   916</td>  \n",
              "</tr>\n",
              "<tr>\n",
              "  <th>Model:</th>                 <td>Logit</td>      <th>  Df Residuals:      </th>  <td>   913</td>  \n",
              "</tr>\n",
              "<tr>\n",
              "  <th>Method:</th>                 <td>MLE</td>       <th>  Df Model:          </th>  <td>     2</td>  \n",
              "</tr>\n",
              "<tr>\n",
              "  <th>Date:</th>            <td>Mon, 07 Oct 2019</td> <th>  Pseudo R-squ.:     </th>  <td>0.4941</td>  \n",
              "</tr>\n",
              "<tr>\n",
              "  <th>Time:</th>                <td>17:46:57</td>     <th>  Log-Likelihood:    </th> <td> -229.64</td> \n",
              "</tr>\n",
              "<tr>\n",
              "  <th>converged:</th>             <td>True</td>       <th>  LL-Null:           </th> <td> -453.90</td> \n",
              "</tr>\n",
              "<tr>\n",
              "  <th>Covariance Type:</th>     <td>nonrobust</td>    <th>  LLR p-value:       </th> <td>4.040e-98</td>\n",
              "</tr>\n",
              "</table>\n",
              "<table class=\"simpletable\">\n",
              "<tr>\n",
              "    <td></td>       <th>coef</th>     <th>std err</th>      <th>z</th>      <th>P>|z|</th>  <th>[0.025</th>    <th>0.975]</th>  \n",
              "</tr>\n",
              "<tr>\n",
              "  <th>const</th> <td>   -8.2306</td> <td>    2.150</td> <td>   -3.829</td> <td> 0.000</td> <td>  -12.444</td> <td>   -4.017</td>\n",
              "</tr>\n",
              "<tr>\n",
              "  <th>RD</th>    <td>    0.0307</td> <td>    0.003</td> <td>   11.873</td> <td> 0.000</td> <td>    0.026</td> <td>    0.036</td>\n",
              "</tr>\n",
              "<tr>\n",
              "  <th>OPS</th>   <td>    6.8895</td> <td>    2.927</td> <td>    2.354</td> <td> 0.019</td> <td>    1.152</td> <td>   12.627</td>\n",
              "</tr>\n",
              "</table>"
            ],
            "text/plain": [
              "<class 'statsmodels.iolib.summary.Summary'>\n",
              "\"\"\"\n",
              "                           Logit Regression Results                           \n",
              "==============================================================================\n",
              "Dep. Variable:               Playoffs   No. Observations:                  916\n",
              "Model:                          Logit   Df Residuals:                      913\n",
              "Method:                           MLE   Df Model:                            2\n",
              "Date:                Mon, 07 Oct 2019   Pseudo R-squ.:                  0.4941\n",
              "Time:                        17:46:57   Log-Likelihood:                -229.64\n",
              "converged:                       True   LL-Null:                       -453.90\n",
              "Covariance Type:            nonrobust   LLR p-value:                 4.040e-98\n",
              "==============================================================================\n",
              "                 coef    std err          z      P>|z|      [0.025      0.975]\n",
              "------------------------------------------------------------------------------\n",
              "const         -8.2306      2.150     -3.829      0.000     -12.444      -4.017\n",
              "RD             0.0307      0.003     11.873      0.000       0.026       0.036\n",
              "OPS            6.8895      2.927      2.354      0.019       1.152      12.627\n",
              "==============================================================================\n",
              "\"\"\""
            ]
          },
          "metadata": {
            "tags": []
          },
          "execution_count": 5
        }
      ]
    },
    {
      "cell_type": "code",
      "metadata": {
        "id": "WYnXrmedlLAH",
        "colab_type": "code",
        "colab": {}
      },
      "source": [
        "# Check the model on the training data\n",
        "# Loop through probability thresholds and compute accuracy, sensitivity, and specificity of our model at each threshold\n",
        "p_thresholds = np.linspace(0,1,101)\n",
        "\n",
        "acc = np.zeros(101)\n",
        "sens = np.zeros(101)\n",
        "spec = np.zeros(101)\n",
        "\n",
        "counter = 0\n",
        "for p in p_thresholds:\n",
        "\n",
        "  yhat_train = fit.predict(xtraining)\n",
        "  yhat_train = pd.Series(yhat_train).values\n",
        "  yhat_train = np.reshape(yhat_train, (len(yhat_train),-1))\n",
        "  \n",
        "  yhat_train[yhat_train > p ] = 1\n",
        "  yhat_train[yhat_train != 1] = 0\n",
        "\n",
        "  acc[counter] = np.mean(ytraining == yhat_train)\n",
        "  sens[counter] = np.mean(yhat_train[ytraining == 1] == ytraining[ytraining == 1])\n",
        "  spec[counter] = np.mean(yhat_train[ytraining == 0] == ytraining[ytraining == 0])\n",
        "  \n",
        "  counter = counter + 1"
      ],
      "execution_count": 0,
      "outputs": []
    },
    {
      "cell_type": "code",
      "metadata": {
        "id": "7RGXni3OlYPQ",
        "colab_type": "code",
        "outputId": "9fd57bbc-232a-439a-b00d-965f3fde7e9a",
        "colab": {
          "base_uri": "https://localhost:8080/",
          "height": 283
        }
      },
      "source": [
        "# Plot the accuracy, sensitivity, and specificity vs. the probability threshold for the training data\n",
        "plt.plot(p_thresholds,acc, label = 'Accuracy')\n",
        "plt.plot(p_thresholds,sens, label = 'Sensitivity')\n",
        "plt.plot(p_thresholds,spec, label = 'Specificity')\n",
        "plt.legend()\n",
        "plt.xlabel('Probability Threshold')\n",
        "plt.ylabel('Value')\n",
        "plt.show()"
      ],
      "execution_count": 7,
      "outputs": [
        {
          "output_type": "display_data",
          "data": {
            "image/png": "[encoded data removed]",
            "text/plain": [
              "<Figure size 432x288 with 1 Axes>"
            ]
          },
          "metadata": {
            "tags": []
          }
        }
      ]
    },
    {
      "cell_type": "code",
      "metadata": {
        "id": "31e90bkiYDtb",
        "colab_type": "code",
        "colab": {}
      },
      "source": [
        "# Run the model on the testing data\n",
        "# Loop through probability thresholds and compute accuracy, sensitivity, and specificity of our model at each threshold\n",
        "p_thresholds = np.linspace(0,1,101)\n",
        "\n",
        "acc = np.zeros(101)\n",
        "sens = np.zeros(101)\n",
        "spec = np.zeros(101)\n",
        "\n",
        "counter = 0\n",
        "for p in p_thresholds:\n",
        "\n",
        "  yhat_testing = fit.predict(xtesting)\n",
        "  yhat_testing = pd.Series(yhat_testing).values\n",
        "  yhat_testing = np.reshape(yhat_testing, (len(yhat_testing),-1))\n",
        "  \n",
        "  yhat_testing[yhat_testing > p ] = 1\n",
        "  yhat_testing[yhat_testing != 1] = 0\n",
        "\n",
        "  acc[counter] = np.mean(ytesting == yhat_testing)\n",
        "  sens[counter] = np.mean(yhat_testing[ytesting == 1] == ytesting[ytesting == 1])\n",
        "  spec[counter] = np.mean(yhat_testing[ytesting == 0] == ytesting[ytesting == 0])\n",
        "  \n",
        "  counter = counter + 1"
      ],
      "execution_count": 0,
      "outputs": []
    },
    {
      "cell_type": "code",
      "metadata": {
        "id": "dY79ciDBYzk1",
        "colab_type": "code",
        "outputId": "2a2bc212-287e-46cb-f87e-e450d6d6c9f9",
        "colab": {
          "base_uri": "https://localhost:8080/",
          "height": 283
        }
      },
      "source": [
        "# Plot the accuracy, sensitivity, and specificity vs. the probability threshold for the testing data\n",
        "plt.plot(p_thresholds,acc, label = 'Accuracy')\n",
        "plt.plot(p_thresholds,sens, label = 'Sensitivity')\n",
        "plt.plot(p_thresholds,spec, label = 'Specificity')\n",
        "plt.legend()\n",
        "plt.xlabel('Probability Threshold')\n",
        "plt.ylabel('Value')\n",
        "plt.show()"
      ],
      "execution_count": 9,
      "outputs": [
        {
          "output_type": "display_data",
          "data": {
            "image/png": "[encoded data removed]",
            "text/plain": [
              "<Figure size 432x288 with 1 Axes>"
            ]
          },
          "metadata": {
            "tags": []
          }
        }
      ]
    },
    {
      "cell_type": "code",
      "metadata": {
        "id": "ZKxI65JmlwXi",
        "colab_type": "code",
        "outputId": "20d447e7-eb32-4cbf-c187-9801cf67326f",
        "colab": {
          "base_uri": "https://localhost:8080/",
          "height": 295
        }
      },
      "source": [
        "# Plot an ROC curve for the training data\n",
        "# Code from bcaffo notebook 5\n",
        "\n",
        "phatTesting = fit.predict(xtraining)\n",
        "fpr, tpr, threshold = skl.metrics.roc_curve(ytraining, phatTesting)\n",
        "roc_auc = skl.metrics.auc(fpr, tpr)\n",
        "\n",
        "import matplotlib.pyplot as plt\n",
        "plt.title('Receiver Operating Characteristic')\n",
        "plt.plot(fpr, tpr, 'b', label = 'AUC = %0.2f' % roc_auc)\n",
        "plt.legend(loc = 'lower right')\n",
        "plt.plot([0, 1], [0, 1],'r--')\n",
        "plt.xlim([0, 1])\n",
        "plt.ylim([0, 1])\n",
        "plt.ylabel('True Positive Rate')\n",
        "plt.xlabel('False Positive Rate')\n",
        "plt.show()"
      ],
      "execution_count": 10,
      "outputs": [
        {
          "output_type": "display_data",
          "data": {
            "image/png": "[encoded data removed]",
            "text/plain": [
              "<Figure size 432x288 with 1 Axes>"
            ]
          },
          "metadata": {
            "tags": []
          }
        }
      ]
    },
    {
      "cell_type": "code",
      "metadata": {
        "id": "Flgy9I47W8AL",
        "colab_type": "code",
        "outputId": "87c470cb-87c5-4770-80af-1a427ae00813",
        "colab": {
          "base_uri": "https://localhost:8080/",
          "height": 295
        }
      },
      "source": [
        "# Plot an ROC curve for the testing data\n",
        "# Code from bcaffo notebook 5\n",
        "\n",
        "phatTesting = fit.predict(xtesting)\n",
        "fpr, tpr, threshold = skl.metrics.roc_curve(ytesting, phatTesting)\n",
        "roc_auc = skl.metrics.auc(fpr, tpr)\n",
        "\n",
        "import matplotlib.pyplot as plt\n",
        "plt.title('Receiver Operating Characteristic')\n",
        "plt.plot(fpr, tpr, 'b', label = 'AUC = %0.2f' % roc_auc)\n",
        "plt.legend(loc = 'lower right')\n",
        "plt.plot([0, 1], [0, 1],'r--')\n",
        "plt.xlim([0, 1])\n",
        "plt.ylim([0, 1])\n",
        "plt.ylabel('True Positive Rate')\n",
        "plt.xlabel('False Positive Rate')\n",
        "plt.show()"
      ],
      "execution_count": 11,
      "outputs": [
        {
          "output_type": "display_data",
          "data": {
            "image/png": "[encoded data removed]",
            "text/plain": [
              "<Figure size 432x288 with 1 Axes>"
            ]
          },
          "metadata": {
            "tags": []
          }
        }
      ]
    },
    {
      "cell_type": "code",
      "metadata": {
        "id": "BGEzzg9mcNBp",
        "colab_type": "code",
        "outputId": "4c1efca7-c263-4d16-8070-5bfa06300400",
        "colab": {
          "base_uri": "https://localhost:8080/",
          "height": 35
        }
      },
      "source": [
        "# Find the optimal probability threshold for our model by minimizing the distance to (0,1) on the ROC curve\n",
        "dist = np.zeros(len(threshold))\n",
        "for i in range(len(fpr)):\n",
        "  curr = np.array([fpr[i], tpr[i]])\n",
        "  dist[i] = np.linalg.norm(curr - np.array([0,1]))\n",
        "min_dist = np.where(dist == min(dist))\n",
        "opt_p = threshold[min_dist][0]\n",
        "\n",
        "print(opt_p)"
      ],
      "execution_count": 12,
      "outputs": [
        {
          "output_type": "stream",
          "text": [
            "0.25986178962460244\n"
          ],
          "name": "stdout"
        }
      ]
    },
    {
      "cell_type": "code",
      "metadata": {
        "id": "KYfD6E-Y1XUr",
        "colab_type": "code",
        "colab": {
          "base_uri": "https://localhost:8080/",
          "height": 232
        },
        "outputId": "2c7c7ccd-d20d-4da2-ab11-0c2c20c269de"
      },
      "source": [
        "# Now, let's see how our model fares for this year's MLB playoff data\n",
        "# Read in 2019 data, which I compiled from baseball-reference.com and espn.com\n",
        "! if [ ! -e MLB2019.csv ] ; \\\n",
        "  then wget https://raw.githubusercontent.com/mwang103/Project1/master/MLB2019.csv; \\\n",
        "fi\n",
        "  \n",
        "df2 = pd.read_csv('MLB2019.csv')"
      ],
      "execution_count": 13,
      "outputs": [
        {
          "output_type": "stream",
          "text": [
            "--2019-10-07 17:46:59--  https://raw.githubusercontent.com/mwang103/Project1/master/MLB2019.csv\n",
            "Resolving raw.githubusercontent.com (raw.githubusercontent.com)... 151.101.0.133, 151.101.64.133, 151.101.128.133, ...\n",
            "Connecting to raw.githubusercontent.com (raw.githubusercontent.com)|151.101.0.133|:443... connected.\n",
            "HTTP request sent, awaiting response... 200 OK\n",
            "Length: 1207 (1.2K) [text/plain]\n",
            "Saving to: ‘MLB2019.csv’\n",
            "\n",
            "\rMLB2019.csv           0%[                    ]       0  --.-KB/s               \rMLB2019.csv         100%[===================>]   1.18K  --.-KB/s    in 0s      \n",
            "\n",
            "2019-10-07 17:46:59 (136 MB/s) - ‘MLB2019.csv’ saved [1207/1207]\n",
            "\n"
          ],
          "name": "stdout"
        }
      ]
    },
    {
      "cell_type": "code",
      "metadata": {
        "id": "pvK3BXyGBI6q",
        "colab_type": "code",
        "outputId": "666d3d8c-3092-4f0c-d947-f18ff08b12cb",
        "colab": {
          "base_uri": "https://localhost:8080/",
          "height": 194
        }
      },
      "source": [
        "# Again, calculate RD and OPS\n",
        "df2 = df2.assign(RD = lambda x: x.RS - x.RA)\n",
        "df2 = df2.assign(OPS = lambda x: x.OBP + x.SLG)\n",
        "df2.head()"
      ],
      "execution_count": 14,
      "outputs": [
        {
          "output_type": "execute_result",
          "data": {
            "text/html": [
              "<div>\n",
              "<style scoped>\n",
              "    .dataframe tbody tr th:only-of-type {\n",
              "        vertical-align: middle;\n",
              "    }\n",
              "\n",
              "    .dataframe tbody tr th {\n",
              "        vertical-align: top;\n",
              "    }\n",
              "\n",
              "    .dataframe thead th {\n",
              "        text-align: right;\n",
              "    }\n",
              "</style>\n",
              "<table border=\"1\" class=\"dataframe\">\n",
              "  <thead>\n",
              "    <tr style=\"text-align: right;\">\n",
              "      <th></th>\n",
              "      <th>Team</th>\n",
              "      <th>League</th>\n",
              "      <th>W</th>\n",
              "      <th>RS</th>\n",
              "      <th>RA</th>\n",
              "      <th>OBP</th>\n",
              "      <th>SLG</th>\n",
              "      <th>BA</th>\n",
              "      <th>Playoffs</th>\n",
              "      <th>RD</th>\n",
              "      <th>OPS</th>\n",
              "    </tr>\n",
              "  </thead>\n",
              "  <tbody>\n",
              "    <tr>\n",
              "      <th>0</th>\n",
              "      <td>ARI</td>\n",
              "      <td>NL</td>\n",
              "      <td>85</td>\n",
              "      <td>813</td>\n",
              "      <td>743</td>\n",
              "      <td>0.323</td>\n",
              "      <td>0.434</td>\n",
              "      <td>0.252</td>\n",
              "      <td>0</td>\n",
              "      <td>70</td>\n",
              "      <td>0.757</td>\n",
              "    </tr>\n",
              "    <tr>\n",
              "      <th>1</th>\n",
              "      <td>ATL</td>\n",
              "      <td>NL</td>\n",
              "      <td>97</td>\n",
              "      <td>855</td>\n",
              "      <td>743</td>\n",
              "      <td>0.336</td>\n",
              "      <td>0.452</td>\n",
              "      <td>0.258</td>\n",
              "      <td>1</td>\n",
              "      <td>112</td>\n",
              "      <td>0.788</td>\n",
              "    </tr>\n",
              "    <tr>\n",
              "      <th>2</th>\n",
              "      <td>BAL</td>\n",
              "      <td>AL</td>\n",
              "      <td>54</td>\n",
              "      <td>729</td>\n",
              "      <td>981</td>\n",
              "      <td>0.310</td>\n",
              "      <td>0.415</td>\n",
              "      <td>0.246</td>\n",
              "      <td>0</td>\n",
              "      <td>-252</td>\n",
              "      <td>0.725</td>\n",
              "    </tr>\n",
              "    <tr>\n",
              "      <th>3</th>\n",
              "      <td>BOS</td>\n",
              "      <td>AL</td>\n",
              "      <td>84</td>\n",
              "      <td>901</td>\n",
              "      <td>828</td>\n",
              "      <td>0.340</td>\n",
              "      <td>0.466</td>\n",
              "      <td>0.269</td>\n",
              "      <td>0</td>\n",
              "      <td>73</td>\n",
              "      <td>0.806</td>\n",
              "    </tr>\n",
              "    <tr>\n",
              "      <th>4</th>\n",
              "      <td>CHC</td>\n",
              "      <td>NL</td>\n",
              "      <td>84</td>\n",
              "      <td>814</td>\n",
              "      <td>717</td>\n",
              "      <td>0.331</td>\n",
              "      <td>0.452</td>\n",
              "      <td>0.252</td>\n",
              "      <td>0</td>\n",
              "      <td>97</td>\n",
              "      <td>0.783</td>\n",
              "    </tr>\n",
              "  </tbody>\n",
              "</table>\n",
              "</div>"
            ],
            "text/plain": [
              "  Team League   W   RS   RA    OBP    SLG     BA  Playoffs   RD    OPS\n",
              "0  ARI     NL  85  813  743  0.323  0.434  0.252         0   70  0.757\n",
              "1  ATL     NL  97  855  743  0.336  0.452  0.258         1  112  0.788\n",
              "2  BAL     AL  54  729  981  0.310  0.415  0.246         0 -252  0.725\n",
              "3  BOS     AL  84  901  828  0.340  0.466  0.269         0   73  0.806\n",
              "4  CHC     NL  84  814  717  0.331  0.452  0.252         0   97  0.783"
            ]
          },
          "metadata": {
            "tags": []
          },
          "execution_count": 14
        }
      ]
    },
    {
      "cell_type": "code",
      "metadata": {
        "id": "GrRz1hlHCHUF",
        "colab_type": "code",
        "outputId": "89de0620-cf0b-447d-e4d9-d48ef42e66b2",
        "colab": {
          "base_uri": "https://localhost:8080/",
          "height": 215
        }
      },
      "source": [
        "# Run our model against this data and evaluate our accuracy, sensitivity, and specificity\n",
        "x_2019 = df2[['RD', 'OPS']]\n",
        "y_2019 = df2[['Playoffs']].values\n",
        "x_2019 = sm.tools.add_constant(x_2019)\n",
        "\n",
        "\n",
        "yhat_2019 = fit.predict(x_2019)\n",
        "yhat_2019 = pd.Series(yhat_2019).values\n",
        "yhat_2019 = np.reshape(yhat_2019, (len(yhat_2019),-1))\n",
        "\n",
        "yhat_2019[yhat_2019 > opt_p] = 1\n",
        "yhat_2019[yhat_2019 != 1] = 0\n",
        "\n",
        "acc = np.mean(y_2019 == yhat_2019)\n",
        "sens = np.mean(y_2019[y_2019 == 1] == yhat_2019[y_2019 == 1])\n",
        "spec = np.mean(y_2019[y_2019 == 0] == yhat_2019[y_2019 == 0])\n",
        "\n",
        "print('Calculated accuracy is:')\n",
        "print(acc)\n",
        "print('')\n",
        "\n",
        "print('Calculated sensitivity is:')\n",
        "print(sens)\n",
        "print('')\n",
        "\n",
        "print('Calculated specificity is:')\n",
        "print(spec)"
      ],
      "execution_count": 15,
      "outputs": [
        {
          "output_type": "stream",
          "text": [
            "Calculated accuracy is:\n",
            "0.8333333333333334\n",
            "\n",
            "Calculated sensitivity is:\n",
            "0.9\n",
            "\n",
            "Calculated specificity is:\n",
            "0.8\n"
          ],
          "name": "stdout"
        },
        {
          "output_type": "stream",
          "text": [
            "/usr/local/lib/python3.6/dist-packages/numpy/core/fromnumeric.py:2389: FutureWarning: Method .ptp is deprecated and will be removed in a future version. Use numpy.ptp instead.\n",
            "  return ptp(axis=axis, out=out, **kwargs)\n"
          ],
          "name": "stderr"
        }
      ]
    }
  ]
}